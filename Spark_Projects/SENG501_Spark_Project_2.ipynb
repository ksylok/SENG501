{
 "cells": [
  {
   "cell_type": "markdown",
   "metadata": {},
   "source": [
    "# ![Spark Logo](http://spark-mooc.github.io/web-assets/images/ta_Spark-logo-small.png) + ![Python Logo](http://spark-mooc.github.io/web-assets/images/python-logo-master-v3-TM-flattened_small.png)\n",
    "# **Linear Regression Lab**\n",
    "#### This lab covers a common supervised learning pipeline, using a subset of the Deerfoot Trail data introduced in a previous lab. Our goal is to train a linear regression model to predict Deerfoot commute times given weather and accident conditions\n",
    "#### ** This lab will cover: **\n",
    "   #### *Part 1:* Read and parse the initial dataset\n",
    "   #### *Part 2:* Create and evaluate a baseline model\n",
    "   #### *Part 3:* Train and evaluate a linear regression model\n",
    "   #### *Part 5:* Add higher order behaviour and interactions between features\n",
    " \n",
    "#### Note that, for reference, you can look up the details of the relevant Spark methods in [Spark's Python API](https://spark.apache.org/docs/latest/api/python/pyspark.html#pyspark.RDD) and the relevant NumPy methods in the [NumPy Reference](http://docs.scipy.org/doc/numpy/reference/index.html)"
   ]
  },
  {
   "cell_type": "code",
   "execution_count": 1,
   "metadata": {
    "collapsed": true
   },
   "outputs": [],
   "source": [
    "from pyspark import SparkContext\n",
    "sc = SparkContext()"
   ]
  },
  {
   "cell_type": "markdown",
   "metadata": {},
   "source": [
    "### ** Part 1: Read and parse the initial dataset **"
   ]
  },
  {
   "cell_type": "markdown",
   "metadata": {},
   "source": [
    "#### ** (1a) Load and check the data **\n",
    "#### The raw data is currently stored in 3 text files.  Commute time data is stored in one of these files. This is the same file you used in a previous lab.  Weather data for the duration of the commute time dataset is stored in 2 separate files - one for 2013 and one for 2014.  This data was obtained from Environment Canada.  We will start by storing the commute time data in a RDD and the weather data in 2 separate RDDs.  Each element of these RDDs is a comma separated string.  Use the [count method](https://spark.apache.org/docs/latest/api/python/pyspark.html#pyspark.RDD.count) to check how many data points/lines we have in each of the RDDs.  Then use the [take method](https://spark.apache.org/docs/latest/api/python/pyspark.html#pyspark.RDD.take) to create and print out a list of the first 2 data points in their initial string format from the commute time RDD and first 15 lines from each of the weather RDDs."
   ]
  },
  {
   "cell_type": "code",
   "execution_count": 2,
   "metadata": {
    "collapsed": false
   },
   "outputs": [],
   "source": [
    "fileName1 = 'deerfoot_part2-1.csv'\n",
    "fileName2 = 'eng-daily-01012013-12312013.csv'\n",
    "fileName3 ='eng-daily-01012014-12312014.csv'\n",
    "#sc.pythonExec=\"/home/vagrant/ondita/envs/py27/bin/python\"\n",
    "deerfootRDD = sc.textFile(fileName1, 8)\n",
    "weather2013RDD = sc.textFile(fileName2,8)\n",
    "weather2014RDD = sc.textFile(fileName3,8)\n"
   ]
  },
  {
   "cell_type": "code",
   "execution_count": 3,
   "metadata": {
    "collapsed": false
   },
   "outputs": [
    {
     "name": "stdout",
     "output_type": "stream",
     "text": [
      "202\n",
      "202\n",
      "391\n",
      "391\n",
      "[u'\"Station Name\",\"CALGARY INTL A\"', u'\"Province\",\"ALBERTA\"', u'\"Latitude\",\"51.12\"', u'\"Longitude\",\"-114.01\"', u'\"Elevation\",\"1099.10\"', u'\"Climate Identifier\",\"3031092\"', u'\"WMO Identifier\",\"71877\"', u'\"TC Identifier\",\"YYC\"', u'', u'\"Legend\"', u'\"A\",\"Accumulated\"', u'\"C\",\"Precipitation occurred, amount uncertain\"', u'\"E\",\"Estimated\"', u'\"F\",\"Accumulated and estimated\"', u'\"L\",\"Precipitation may or may not have occurred\"']\n",
      "[u'\"Station Name\",\"CALGARY INTL A\"', u'\"Province\",\"ALBERTA\"', u'\"Latitude\",\"51.12\"', u'\"Longitude\",\"-114.01\"', u'\"Elevation\",\"1099.10\"', u'\"Climate Identifier\",\"3031092\"', u'\"WMO Identifier\",\"71877\"', u'\"TC Identifier\",\"YYC\"', u'', u'\"Legend\"', u'\"A\",\"Accumulated\"', u'\"C\",\"Precipitation occurred, amount uncertain\"', u'\"E\",\"Estimated\"', u'\"F\",\"Accumulated and estimated\"', u'\"L\",\"Precipitation may or may not have occurred\"']\n"
     ]
    }
   ],
   "source": [
    "# TODO: Replace <FILL IN> with appropriate code\n",
    "numPoints = deerfootRDD.count()\n",
    "print numPoints\n",
    "samplePoints = deerfootRDD.map(lambda x: x.split(\",\")[2:4]).count()\n",
    "print samplePoints\n",
    "\n",
    "num2013WeatherLines = weather2013RDD.count()\n",
    "num2014WeatherLines = weather2014RDD.count()\n",
    "print num2013WeatherLines\n",
    "print num2014WeatherLines\n",
    "sample2013WeatherLines = weather2013RDD.take(15)\n",
    "sample2014WeatherLines = weather2014RDD.take(15)\n",
    "print sample2013WeatherLines\n",
    "print sample2014WeatherLines"
   ]
  },
  {
   "cell_type": "markdown",
   "metadata": {},
   "source": [
    "#### ** (1b) Preprocessing RDDs - extracting desired fields from commute time data **\n",
    "#### We need to pre-process the RDDs before we can use them for training a regression model.  For this exercise, we will consider predicting the commute time at 5 PM in the evening when traffic is typically heavy.  As a result we won't be using all the fields in the 'deerfootRDD'.  Specifically, we will only be using the following fields - Date (field0), Day(field1), Commute Time at 5 PM (field15), and Total number of accidents (field46).  Use a Spark transformation to create a new pairRDD whose key is the Date and whose value is the tuple (Day, Commute Time at 5 PM, Total number of accidents). You need to use the function 'extractFields' to achieve this.  Print the first 2 elements of the resulting pairRDD as a check to see if you extracted the correct fields., `u'split,me'.split(',')` returns `[u'split', u'me']`."
   ]
  },
  {
   "cell_type": "code",
   "execution_count": 4,
   "metadata": {
    "collapsed": false,
    "scrolled": true
   },
   "outputs": [
    {
     "name": "stdout",
     "output_type": "stream",
     "text": [
      "[(u'21/09/2013', [u'Saturday', u'35', u'2'])]\n"
     ]
    }
   ],
   "source": [
    "# TODO: Replace <FILL IN> with appropriate code\n",
    "def extractFields(deerfootRDDRecord):\n",
    "    \"\"\"Creates a key-value pair consisting of the Date field as the key and the the tuple (Day,Commute Time at 5 PM, Total number of Accidents) as the value\n",
    "\n",
    "    Args:\n",
    "        deerfootRDDRecord : a comma separated string consisting of all fields in the data set.\n",
    "\n",
    "    Returns:\n",
    "        extracted record: key-value pair as detailed above\n",
    "    \"\"\"\n",
    "    fieldsList = deerfootRDDRecord.split(\",\")\n",
    "    return (fieldsList[0], [fieldsList[1], fieldsList[15], fieldsList[46]])\n",
    "deerfootPairRDD = deerfootRDD.map(extractFields)\n",
    "print deerfootPairRDD.take(1)"
   ]
  },
  {
   "cell_type": "markdown",
   "metadata": {},
   "source": [
    "#### ** (1c) Preprocessing RDDs - extracting desired lines from weather data **\n",
    "#### If you notice the output of the weather files the first few lines don't contain the data - they contain metadata and column labels.  These need to be removed.  Use a Spark transformation to discard unwanted metadata and header information.  Hint: You can see whether a unicode string string1 contains another string in variable string2 using 'u'string1' in string2'"
   ]
  },
  {
   "cell_type": "code",
   "execution_count": 5,
   "metadata": {
    "collapsed": false,
    "scrolled": true
   },
   "outputs": [
    {
     "name": "stdout",
     "output_type": "stream",
     "text": [
      "[u'\"2013-01-01\",\"2013\",\"01\",\"01\",\"\\ufffd\",\"1.2\",\"\",\"-8.9\",\"\",\"-3.9\",\"\",\"21.9\",\"\",\"0.0\",\"\",\"0.0\",\"T\",\"0.0\",\"\",\"0.0\",\"T\",\"4\",\"\",\"33\",\"\",\"48\",\"\"', u'\"2013-01-02\",\"2013\",\"01\",\"02\",\"\\ufffd\",\"5.8\",\"\",\"-10.9\",\"\",\"-2.6\",\"\",\"20.6\",\"\",\"0.0\",\"\",\"0.0\",\"\",\"0.0\",\"\",\"0.0\",\"\",\"3\",\"\",\"29\",\"\",\"41\",\"\"', u'\"2013-01-03\",\"2013\",\"01\",\"03\",\"\\ufffd\",\"8.8\",\"\",\"-8.8\",\"\",\"0.0\",\"\",\"18.0\",\"\",\"0.0\",\"\",\"0.0\",\"\",\"0.0\",\"\",\"0.0\",\"\",\"2\",\"\",\"28\",\"\",\"52\",\"\"', u'\"2013-01-04\",\"2013\",\"01\",\"04\",\"\\ufffd\",\"2.9\",\"\",\"-11.2\",\"\",\"-4.2\",\"\",\"22.2\",\"\",\"0.0\",\"\",\"0.0\",\"\",\"0.0\",\"\",\"0.0\",\"\",\"2\",\"\",\"26\",\"\",\"63\",\"\"', u'\"2013-01-05\",\"2013\",\"01\",\"05\",\"\\ufffd\",\"4.8\",\"\",\"-10.0\",\"\",\"-2.6\",\"\",\"20.6\",\"\",\"0.0\",\"\",\"0.0\",\"\",\"0.0\",\"\",\"0.0\",\"\",\"1\",\"\",\"27\",\"\",\"41\",\"\"']\n",
      "[u'\"2014-01-01\",\"2014\",\"01\",\"01\",\"\\ufffd\",\"-0.6\",\"\",\"-9.7\",\"\",\"-5.2\",\"\",\"23.2\",\"\",\"0.0\",\"\",\"0.0\",\"\",\"1.0\",\"\",\"0.8\",\"\",\"9\",\"\",\"\",\"\",\"<31\",\"\"', u'\"2014-01-02\",\"2014\",\"01\",\"02\",\"\\ufffd\",\"8.5\",\"\",\"-10.0\",\"\",\"-0.8\",\"\",\"18.8\",\"\",\"0.0\",\"\",\"0.0\",\"\",\"0.0\",\"\",\"0.0\",\"\",\"11\",\"\",\"27\",\"\",\"52\",\"\"', u'\"2014-01-03\",\"2014\",\"01\",\"03\",\"\\ufffd\",\"3.0\",\"\",\"-11.0\",\"\",\"-4.0\",\"\",\"22.0\",\"\",\"0.0\",\"\",\"0.0\",\"\",\"7.8\",\"\",\"5.8\",\"\",\"8\",\"\",\"36\",\"\",\"54\",\"\"', u'\"2014-01-04\",\"2014\",\"01\",\"04\",\"\\ufffd\",\"-11.0\",\"\",\"-21.9\",\"\",\"-16.5\",\"\",\"34.5\",\"\",\"0.0\",\"\",\"0.0\",\"\",\"1.0\",\"\",\"0.2\",\"\",\"14\",\"\",\"35\",\"\",\"44\",\"\"', u'\"2014-01-05\",\"2014\",\"01\",\"05\",\"\\ufffd\",\"-14.4\",\"\",\"-25.5\",\"\",\"-20.0\",\"\",\"38.0\",\"\",\"0.0\",\"\",\"0.0\",\"T\",\"0.0\",\"\",\"0.0\",\"T\",\"14\",\"\",\"36\",\"\",\"52\",\"\"']\n"
     ]
    }
   ],
   "source": [
    "# TODO: Replace <FILL IN> with appropriate code\n",
    "def filterLines(weatherRDDRecord):\n",
    "    \"\"\" Skips lines with metadata and label information\n",
    "    Args:\n",
    "        weatherRDDRecord : a line from the weather file.\n",
    "\n",
    "    Returns:\n",
    "        True - if line is not metadata/label; False otherwise\n",
    "    \"\"\"\n",
    "    fieldsList = weatherRDDRecord.split(\",\")\n",
    "    #return len(fieldsList)\n",
    "    if any(i.isdigit() for i in fieldsList[0]):\n",
    "        return True\n",
    "    else:\n",
    "        return False\n",
    "\n",
    "filteredWeather2013RDD = weather2013RDD.filter(lambda x: filterLines(x))\n",
    "filteredWeather2014RDD = weather2014RDD.filter(lambda x: filterLines(x))\n",
    "print filteredWeather2013RDD.take(5)\n",
    "print filteredWeather2014RDD.take(5)"
   ]
  },
  {
   "cell_type": "markdown",
   "metadata": {},
   "source": [
    "#### ** (1d) Preprocessing RDDs - Fixing date format inconsistency**\n",
    "#### If you compare the Date fields of the commute time and weather files you will notice that they are in different formats.  While the date in the commute time file is in the format \"day/month/year\" it is in the format \"year-month-day\".  We need to fix things so that the weather data has the same date format as the commute time data. (It is very typical to deal with such annoyances while developing models from different data sources). Use a Spark transformation that constructs a pairRDD whose key is the date and whose value is a tuple containing the rest of the columns of the weather data.  Note, you need to construct 2 pairRDDs, one for 2013 and another for 2014.  Also, as mentioned previously, you need to fix the date formatting such that it matches the formatting in the commute time data."
   ]
  },
  {
   "cell_type": "code",
   "execution_count": 6,
   "metadata": {
    "collapsed": false,
    "scrolled": false
   },
   "outputs": [
    {
     "name": "stdout",
     "output_type": "stream",
     "text": [
      "[(u'01/01/2013', [u'2013', u'01', u'01', u'\\ufffd', u'1.2', u'', u'-8.9', u'', u'-3.9', u'', u'21.9', u'', u'0.0', u'', u'0.0', u'T', u'0.0', u'', u'0.0', u'T', u'4', u'', u'33', u'', u'48', u'']), (u'02/01/2013', [u'2013', u'01', u'02', u'\\ufffd', u'5.8', u'', u'-10.9', u'', u'-2.6', u'', u'20.6', u'', u'0.0', u'', u'0.0', u'', u'0.0', u'', u'0.0', u'', u'3', u'', u'29', u'', u'41', u''])]\n",
      "[(u'01/01/2014', [u'2014', u'01', u'01', u'\\ufffd', u'-0.6', u'', u'-9.7', u'', u'-5.2', u'', u'23.2', u'', u'0.0', u'', u'0.0', u'', u'1.0', u'', u'0.8', u'', u'9', u'', u'', u'', u'<31', u'']), (u'02/01/2014', [u'2014', u'01', u'02', u'\\ufffd', u'8.5', u'', u'-10.0', u'', u'-0.8', u'', u'18.8', u'', u'0.0', u'', u'0.0', u'', u'0.0', u'', u'0.0', u'', u'11', u'', u'27', u'', u'52', u''])]\n"
     ]
    }
   ],
   "source": [
    "# TODO: Replace <FILL IN> with appropriate code\n",
    "def fixDate(weatherRDDRecord):\n",
    "    \"\"\"Creates a key-value pair - key is date in format 'day/month/year' value - a comma separated string containing other fields of the record\n",
    "    Args:\n",
    "        weatherRDDRecord : a comma separated string consisting of all fields in the weather data set.\n",
    "\n",
    "    Returns:\n",
    "        extracted record: key-value pair as detailed above\n",
    "    \"\"\"\n",
    "    fieldList = weatherRDDRecord.split(\",\")\n",
    "    fieldList = [i.replace('\\\"', '') for i in fieldList]    #remove quotation marks\n",
    "    fieldList[0] = fieldList[0].replace('-', '/')\n",
    "    \n",
    "    swapDateOrder = fieldList[0].split('/')\n",
    "    fieldList[0] = swapDateOrder[2] + '/' + swapDateOrder[1] + '/' + swapDateOrder[0]\n",
    "    \n",
    "    return (fieldList[0],(fieldList[1:]))\n",
    "   \n",
    "fixedWeather2013RDD = filteredWeather2013RDD.map(fixDate)\n",
    "fixedWeather2014RDD = filteredWeather2014RDD.map(fixDate)\n",
    "#print type(fixedWeather2014RDD.collect())\n",
    "print fixedWeather2013RDD.take(2)\n",
    "print fixedWeather2014RDD.take(2)"
   ]
  },
  {
   "cell_type": "markdown",
   "metadata": {},
   "source": [
    "#### ** (1e) Extracting the desired days from weather data**\n",
    "#### commute times have been recorded for the period September 21, 2013 to April 10, 2014.  We need to consider only the weather data for this period while building the linear regression model.  Use a Spark transformation to append the 'fixedWeather2014' RDD to the 'fixedWeather2013' RDD to create a new RDD.  Then, use another Spark transformation to filter out days before September 21, 2013 and days after April 10, 2014."
   ]
  },
  {
   "cell_type": "code",
   "execution_count": 7,
   "metadata": {
    "collapsed": false,
    "scrolled": false
   },
   "outputs": [
    {
     "name": "stdout",
     "output_type": "stream",
     "text": [
      "730\n",
      "[(u'21/09/2013', [u'2013', u'09', u'21', u'\\ufffd', u'24.0', u'', u'5.5', u'', u'14.8', u'', u'3.2', u'', u'0.0', u'', u'0.0', u'', u'0.0', u'', u'0.0', u'', u'', u'', u'21', u'', u'63', u'']), (u'22/09/2013', [u'2013', u'09', u'22', u'\\ufffd', u'20.1', u'', u'3.8', u'', u'12.0', u'', u'6.0', u'', u'0.0', u'', u'0.0', u'T', u'0.0', u'', u'0.0', u'T', u'', u'', u'26', u'', u'39', u'']), (u'23/09/2013', [u'2013', u'09', u'23', u'\\ufffd', u'17.6', u'', u'5.3', u'', u'11.5', u'', u'6.5', u'', u'0.0', u'', u'0.0', u'', u'0.0', u'', u'0.0', u'', u'', u'', u'27', u'', u'59', u'']), (u'24/09/2013', [u'2013', u'09', u'24', u'\\ufffd', u'14.4', u'', u'3.9', u'', u'9.2', u'', u'8.8', u'', u'0.0', u'', u'0.0', u'', u'0.0', u'', u'0.0', u'', u'', u'', u'27', u'', u'37', u'']), (u'25/09/2013', [u'2013', u'09', u'25', u'\\ufffd', u'11.3', u'', u'1.6', u'', u'6.5', u'', u'11.5', u'', u'0.0', u'', u'0.0', u'', u'0.0', u'', u'0.0', u'', u'', u'', u'34', u'', u'50', u''])]\n",
      "202\n"
     ]
    }
   ],
   "source": [
    "# TODO: Replace <FILL IN> with appropriate code\n",
    "def filterDates(weatherRDDRecord):\n",
    "    \"\"\"Skips records before September 21, 2013 and after April 10, 2014\n",
    "    Args:\n",
    "        weatherRDDRecord : key-value record where key is date and value is comma separated string of other weather fields\n",
    "\n",
    "    Returns:\n",
    "        True if key is in the desired period; False otherwise\n",
    "    \"\"\"\n",
    "    import datetime\n",
    "    startDate = str(datetime.date(2013, 9, 21))\n",
    "    endDate = str(datetime.date(2014, 4, 10))\n",
    "\n",
    "    recordDate = weatherRDDRecord[0].split(\"/\")\n",
    "    currentDate = str(datetime.date(int(recordDate[2]), int(recordDate[1]), int(recordDate[0])))\n",
    "    \n",
    "    if startDate <= currentDate <= endDate:\n",
    "        return True\n",
    "    else:\n",
    "        return False\n",
    "\n",
    "aggregateWeatherRDD = fixedWeather2013RDD.union(fixedWeather2014RDD)\n",
    "print aggregateWeatherRDD.count()\n",
    "desiredWeatherRDD = aggregateWeatherRDD.filter(lambda x: filterDates(x))\n",
    "#desiredWeatherRDD = aggregateWeatherRDD.map(filterDates)\n",
    "print desiredWeatherRDD.take(5)\n",
    "print desiredWeatherRDD.count()"
   ]
  },
  {
   "cell_type": "markdown",
   "metadata": {},
   "source": [
    "#### ** (1e) Merging commute time and weather data**\n",
    "#### We have to merge the commute time RDD 'deerfootPairRDD' and the weather RDD 'desiredWeatherRDD'.  Use an appropriate Spark transformation that uses the common key date key in both RDDs.  Print the number of elements and the first 5 elements of the resulting RDD."
   ]
  },
  {
   "cell_type": "code",
   "execution_count": 8,
   "metadata": {
    "collapsed": false,
    "scrolled": false
   },
   "outputs": [
    {
     "name": "stdout",
     "output_type": "stream",
     "text": [
      "[(u'08/03/2014', ([u'Saturday', u'35', u'2'], [u'2014', u'03', u'08', u'\\ufffd', u'12.4', u'', u'-4.5', u'', u'4.0', u'', u'14.0', u'', u'0.0', u'', u'0.0', u'', u'0.0', u'', u'0.0', u'', u'1', u'', u'23', u'', u'59', u''])), (u'31/03/2014', ([u'Monday', u'38', u'7'], [u'2014', u'03', u'31', u'\\ufffd', u'-9.4', u'', u'-14.7', u'', u'-12.1', u'', u'30.1', u'', u'0.0', u'', u'', u'M', u'1.2', u'', u'0.8', u'', u'10', u'', u'', u'', u'<31', u''])), (u'07/10/2013', ([u'Monday', u'46', u'5'], [u'2013', u'10', u'07', u'\\ufffd', u'17.9', u'', u'5.6', u'', u'11.8', u'', u'6.2', u'', u'0.0', u'', u'0.0', u'', u'0.0', u'', u'0.0', u'', u'', u'', u'28', u'', u'61', u''])), (u'06/01/2014', ([u'Monday', u'45', u'4'], [u'2014', u'01', u'06', u'\\ufffd', u'3.4', u'', u'-14.8', u'', u'-5.7', u'', u'23.7', u'', u'0.0', u'', u'0.0', u'', u'0.0', u'', u'0.0', u'', u'10', u'', u'29', u'', u'33', u''])), (u'26/11/2013', ([u'Tuesday', u'44', u'6'], [u'2013', u'11', u'26', u'\\ufffd', u'10.2', u'', u'-5.6', u'', u'2.3', u'', u'15.7', u'', u'0.0', u'', u'0.0', u'', u'0.0', u'', u'0.0', u'', u'0', u'', u'29', u'', u'43', u'']))]\n"
     ]
    }
   ],
   "source": [
    "# TODO: Replace <FILL IN> with appropriate code\n",
    "#print deerfootPairRDD.take(2)\n",
    "#print desiredWeatherRDD.take(2)\n",
    "combinedPairRDD = deerfootPairRDD.join(desiredWeatherRDD)\n",
    "print combinedPairRDD.take(5)\n",
    "#print combinedPairRDD"
   ]
  },
  {
   "cell_type": "markdown",
   "metadata": {},
   "source": [
    "#### ** (1f) Filter out weekends and unwanted weather fields to produce fina data for regression**\n",
    "#### Predicting commute times is more crucial for weekdays than for weekends, which have very light traffic.  So, we will exclude saturdays and sundays from the combined dataset.  We will also only consider using the number of accidents and the \"Snow on the ground\" fields of the combined dataset while building our predictive model.  While other fields, e.g., temperature, might also impact commute times, we will ignore them for the sake of simplicity.  As a result, we need to filter out the unwanted fields.  Use appropriate Spark transformations to produce an RDD whose each record has the format \"commute time, number of accidents, snow on the ground\". If the \"snow on the ground\" field is \"\", i.e., data was not logged that day, then assume that it is \"0\", i.e., assume that day had 0 snow on the ground."
   ]
  },
  {
   "cell_type": "code",
   "execution_count": 9,
   "metadata": {
    "collapsed": false,
    "scrolled": false
   },
   "outputs": [
    {
     "name": "stdout",
     "output_type": "stream",
     "text": [
      "144\n",
      "[u'38,7,10', u'46,5,0', u'45,4,10', u'44,6,0', u'40,5,0']\n"
     ]
    }
   ],
   "source": [
    "# TODO: Replace <FILL IN> with appropriate code\n",
    "def filterWeekends(combinedPairRDDRecord):\n",
    "    \"\"\"Skips records corresponding to Saturdays and Sundays\n",
    "    Args:\n",
    "        combinedPairRDDRecord : key-value record where key is date and value is a tuple containing comma-separated string values from deerfootPairRDD and desiredWeatherRDD \n",
    "\n",
    "    Returns:\n",
    "        True if key is in the desired period; False otherwise\n",
    "    \"\"\"\n",
    "    recordRDD = combinedPairRDDRecord[1]\n",
    "    dayOfWeek = recordRDD[0][0]\n",
    "    \n",
    "    if dayOfWeek != 'Saturday' and dayOfWeek != 'Sunday':\n",
    "        return True\n",
    "    else:\n",
    "        return False\n",
    "    \n",
    "def extractRegressionData(combinedPairRDDWeekdaysRecord):\n",
    "    \"\"\"Outputs a string record with the format \"commute time,number of accidents, snow on ground\"\n",
    "    Args:\n",
    "        combinedPairRDDWeekdaysRecord: key-value record where key is date and value is a tuple containing comma-separated string values from deerfootPairRDD and desiredWeatherRDD \n",
    "    \n",
    "    Returns:\n",
    "        record with the format \"commute time,number of accidents, snow on ground\n",
    "    \"\"\"\n",
    "    commuteFields = combinedPairRDDWeekdaysRecord[1][0]\n",
    "    weatherFields = combinedPairRDDWeekdaysRecord[1][1]\n",
    "    \n",
    "    # Assuming 'Snow on ground' field is index 20, if I counted right\n",
    "    if str(weatherFields[20]) == '':\n",
    "        weatherFields[20] = '0'\n",
    "    \n",
    "    desiredFieldList = commuteFields[1] + ',' + commuteFields[2] + ',' + weatherFields[20]\n",
    "    return desiredFieldList\n",
    "\n",
    "combinedPairRDDWeekdays = combinedPairRDD.filter(lambda x: filterWeekends(x))\n",
    "#combinedPairRDDWeekdays = combinedPairRDD.map(filterWeekends)\n",
    "#print combinedPairRDDWeekdays.take(10) #own print function\n",
    "regressionDataRDD = combinedPairRDDWeekdays.map(extractRegressionData)\n",
    "print regressionDataRDD.count()\n",
    "print regressionDataRDD.take(5)"
   ]
  },
  {
   "cell_type": "markdown",
   "metadata": {},
   "source": [
    "#### ** (1g) Using `LabeledPoint` **\n",
    "#### We are now ready to use MLlib to do regression!  In MLlib, labeled training instances are stored using the [LabeledPoint](https://spark.apache.org/docs/latest/api/python/pyspark.mllib.html#pyspark.mllib.regression.LabeledPoint) object.  Write the parsePoint function that takes as input a raw data point in 'regressionDataRDD', parses it using Python's [unicode.split](https://docs.python.org/2/library/string.html#string.split) method, and returns a `LabeledPoint`.  Use this function to parse samplePoints (from the previous question).  Then print out the features and label for the first training point, using the `LabeledPoint.features` and `LabeledPoint.label` attributes. Finally, calculate the number features for this dataset."
   ]
  },
  {
   "cell_type": "code",
   "execution_count": 10,
   "metadata": {
    "collapsed": false
   },
   "outputs": [],
   "source": [
    "from pyspark.mllib.regression import LabeledPoint\n",
    "import numpy as np,numpy\n",
    "# Here is a sample raw data point:\n",
    "# u'49,14,16'\n",
    "# In this raw data point, 49 is the label, and the remaining values are features"
   ]
  },
  {
   "cell_type": "code",
   "execution_count": 11,
   "metadata": {
    "collapsed": false
   },
   "outputs": [
    {
     "name": "stdout",
     "output_type": "stream",
     "text": [
      "(38.0,[7.0,10.0])\n",
      "[7.0,10.0] 38.0\n",
      "2\n"
     ]
    }
   ],
   "source": [
    "# TODO: Replace <FILL IN> with appropriate code\n",
    "def parsePoint(line):\n",
    "    \"\"\"Converts a comma separated unicode string into a `LabeledPoint`.\n",
    "\n",
    "    Args:\n",
    "        line (unicode): Comma separated unicode string where the first element is the label and the\n",
    "            remaining elements are features.\n",
    "\n",
    "    Returns:\n",
    "        LabeledPoint: The line is converted into a `LabeledPoint`, which consists of a label and\n",
    "            features.\n",
    "    \"\"\"\n",
    "    parts = line.split(\",\")\n",
    "    return LabeledPoint(parts[0], [parts[1], parts[2]])\n",
    "\n",
    "\n",
    "parsedSamplePoints = regressionDataRDD.map(lambda x: parsePoint(x))\n",
    "firstPoint = parsedSamplePoints.take(1)[0]\n",
    "print firstPoint\n",
    "firstPointFeatures = firstPoint.features\n",
    "firstPointLabel = firstPoint.label\n",
    "print firstPointFeatures, firstPointLabel\n",
    "# d contains the number of features\n",
    "d = len(firstPointFeatures)\n",
    "print d"
   ]
  },
  {
   "cell_type": "markdown",
   "metadata": {},
   "source": [
    "# **(1h) Feature scaling **\n",
    "#### In learning problems, it is often necessary to \"scale\" features so that all features span nearly the same range.  One way to do this is to do (featureValue-meanOfFeatureValues)/standardDeviationOfFeatureValues.  For a given feature, the mean and standard deviation of its feature values are calculated.  Then, the mean is subtracted from each value and the result is then divided by the standard deviation. \n",
    "\n",
    "#### We will now do feature scaling for our dataset.  First implement a 'getNormalizedRDD' function that takes the RDD with non-scaled values and returns an RDD containing scaled features.  This function will first calculate the mean and standard deviations of the features in the non-scaled RDD.  It will then use a Spark transformation to scale each element of the non-scaled RDD.  This transformation should use the 'normalizeFeatures' closure listed below. Note that your implementation should generalize to any arbitrary number of features."
   ]
  },
  {
   "cell_type": "code",
   "execution_count": 59,
   "metadata": {
    "collapsed": false
   },
   "outputs": [
    {
     "name": "stdout",
     "output_type": "stream",
     "text": [
      "[5.1736111111111116, 3.8680555555555558]\n",
      "[2.9470556424805663, 5.4699260199366728]\n",
      "[LabeledPoint(38.0, [0.619733425648,1.12102877116]), LabeledPoint(46.0, [-0.0589100214494,-0.707149519291]), LabeledPoint(45.0, [-0.398231744998,1.12102877116]), LabeledPoint(44.0, [0.280411702099,-0.707149519291]), LabeledPoint(40.0, [-0.0589100214494,-0.707149519291])]\n"
     ]
    }
   ],
   "source": [
    "# TODO: Replace <FILL IN> with appropriate code\n",
    "import math\n",
    "\n",
    "meanOfFeatures = []\n",
    "stdDevFeatures = []\n",
    "\n",
    "def normalizeFeatures(lp):\n",
    "    \"\"\"Normalizes features in the LabeledPoint object lp.\n",
    "\n",
    "    Args:\n",
    "        lp - LabeledPoint object \n",
    "\n",
    "    Returns:\n",
    "        LabeledPoint: The object contains the label and the normalized features\n",
    "    \"\"\"\n",
    "    # optimized for any sized feature vector\n",
    "    numFeatures = len(lp.features)\n",
    "    featureList = []\n",
    "    for i in range(numFeatures):\n",
    "        normalizedFeature = (lp.features[i] - meanOfFeatures[i])/stdDevFeatures[i]\n",
    "        featureList.append(normalizedFeature)\n",
    "    returnLabeledPoint = LabeledPoint(lp.label, featureList)\n",
    "    return returnLabeledPoint\n",
    "    \n",
    "def getNormalizedRDD(nonNormalizedRDD): \n",
    "    \"\"\"Normalizes the features of the LabeldPoints contained in nonNormalizedRDD.\n",
    "\n",
    "    Args:\n",
    "        nonNormalizedRDD - RDD containing non-normalized features \n",
    "\n",
    "    Returns:\n",
    "        returnRDD: RDD containing normalized features\n",
    "    \"\"\"\n",
    "    totalOfFeatures = []\n",
    "    numFeatures = len(nonNormalizedRDD.take(1)[0].features)\n",
    "    for i in range(numFeatures):\n",
    "        meanOfFeatures.append(nonNormalizedRDD.map(lambda x: x.features[i]).mean())\n",
    "        stdDevFeatures.append(np.std(nonNormalizedRDD.map(lambda x: x.features[i]).collect()))\n",
    "    returnRDD = nonNormalizedRDD.map(lambda x: normalizeFeatures(x))\n",
    "    return returnRDD\n",
    "\n",
    "normalizedSamplePoints = getNormalizedRDD(parsedSamplePoints)\n",
    "print meanOfFeatures\n",
    "print stdDevFeatures\n",
    "print normalizedSamplePoints.take(5)"
   ]
  },
  {
   "cell_type": "markdown",
   "metadata": {},
   "source": [
    "#### ** (1i) Training and validation sets **\n",
    "#### We're almost done parsing our dataset, and our final task involves split it into a training set and a validation set. Use the [randomSplit method](https://spark.apache.org/docs/latest/api/python/pyspark.html#pyspark.RDD.randomSplit) with the specified weights and seed to create RDDs storing each of these datasets. Next, cache each of these RDDs, as we will be accessing them multiple times in the remainder of this lab. Finally, compute the size of each dataset and verify that the sum of their sizes equals the value computed in Part (1f)."
   ]
  },
  {
   "cell_type": "code",
   "execution_count": 60,
   "metadata": {
    "collapsed": false
   },
   "outputs": [
    {
     "name": "stdout",
     "output_type": "stream",
     "text": [
      "113 31 144\n",
      "144\n"
     ]
    }
   ],
   "source": [
    "# TODO: Replace <FILL IN> with appropriate code\n",
    "weights = [.8, .2]\n",
    "seed = 42\n",
    "parsedTrainData, parsedValData = normalizedSamplePoints.randomSplit(weights, seed)\n",
    "parsedTrainData.cache()\n",
    "parsedValData.cache()\n",
    "nTrain = parsedTrainData.count()\n",
    "nVal = parsedValData.count()\n",
    "\n",
    "print nTrain, nVal, nTrain + nVal\n",
    "print normalizedSamplePoints.count()"
   ]
  },
  {
   "cell_type": "markdown",
   "metadata": {},
   "source": [
    "### ** Part 2: Create and evaluate a baseline model **"
   ]
  },
  {
   "cell_type": "markdown",
   "metadata": {},
   "source": [
    "#### **(2a) Average label **\n",
    "#### A very simple yet natural baseline model is one where we always make the same prediction independent of the given data point, using the average label in the training set as the constant prediction value.  Compute this value, which is the average commute time for the training set.  Use an appropriate method in the [RDD API](https://spark.apache.org/docs/latest/api/python/pyspark.html#pyspark.RDD)."
   ]
  },
  {
   "cell_type": "code",
   "execution_count": 61,
   "metadata": {
    "collapsed": false
   },
   "outputs": [
    {
     "name": "stdout",
     "output_type": "stream",
     "text": [
      "44.6991150442\n"
     ]
    }
   ],
   "source": [
    "# TODO: Replace <FILL IN> with appropriate code\n",
    "averageCommuteTime = parsedTrainData.map(lambda x: x.label).mean()\n",
    "                   \n",
    "print averageCommuteTime"
   ]
  },
  {
   "cell_type": "markdown",
   "metadata": {},
   "source": [
    "#### **(2b) Root mean squared error **\n",
    "#### We naturally would like to see how well this naive baseline performs.  We will use root mean squared error ([RMSE](http://en.wikipedia.org/wiki/Root-mean-square_deviation)) for evaluation purposes.  Implement a function to compute RMSE given an RDD of (label, prediction) tuples, and test out this function on an example."
   ]
  },
  {
   "cell_type": "code",
   "execution_count": 62,
   "metadata": {
    "collapsed": false
   },
   "outputs": [
    {
     "name": "stdout",
     "output_type": "stream",
     "text": [
      "1.29099444874\n"
     ]
    }
   ],
   "source": [
    "# TODO: Replace <FILL IN> with appropriate code\n",
    "import math\n",
    "def squaredError(label, prediction):\n",
    "    \"\"\"Calculates the the squared error for a single prediction.\n",
    "\n",
    "    Args:\n",
    "        label (float): The correct value for this observation.\n",
    "        prediction (float): The predicted value for this observation.\n",
    "\n",
    "    Returns:\n",
    "        float: The difference between the `label` and `prediction` squared.\n",
    "    \"\"\"\n",
    "    return (label-prediction)*(label-prediction)\n",
    "\n",
    "def calcRMSE(labelsAndPreds):\n",
    "    \"\"\"Calculates the root mean squared error for an `RDD` of (label, prediction) tuples.\n",
    "\n",
    "    Args:\n",
    "        labelsAndPred (RDD of (float, float)): An `RDD` consisting of (label, prediction) tuples.\n",
    "\n",
    "    Returns:\n",
    "        float: The square root of the mean of the squared errors.\n",
    "    \"\"\"\n",
    "    meanOfSqErrors = labelsAndPreds.map(lambda (x,y): squaredError(x,y)).mean()\n",
    "    \n",
    "    return math.sqrt(meanOfSqErrors)\n",
    "    \n",
    "labelsAndPreds = sc.parallelize([(3., 1.), (1., 2.), (2., 2.)])\n",
    "exampleRMSE = calcRMSE(labelsAndPreds)\n",
    "print exampleRMSE"
   ]
  },
  {
   "cell_type": "markdown",
   "metadata": {},
   "source": [
    "#### **(2c) Training validation RMSE **\n",
    "#### Now let's calculate the training and validation RMSE of our baseline model. To do this, first create RDDs of (label, prediction) tuples for each dataset, and then call calcRMSE. Note that each RMSE can be interpreted as the average prediction error for the given dataset (in terms of commute time)."
   ]
  },
  {
   "cell_type": "code",
   "execution_count": 63,
   "metadata": {
    "collapsed": false
   },
   "outputs": [
    {
     "name": "stdout",
     "output_type": "stream",
     "text": [
      "Baseline Train RMSE = 9.602\n",
      "Baseline Validation RMSE = 5.098\n"
     ]
    }
   ],
   "source": [
    "# TODO: Replace <FILL IN> with appropriate code\n",
    "#print parsedTrainData.collect()\n",
    "labelsAndPredsTrain = parsedTrainData.map(lambda x: (x.label, averageCommuteTime))\n",
    "rmseTrainBase = calcRMSE(labelsAndPredsTrain)\n",
    "labelsAndPredsVal = parsedValData.map(lambda x: (x.label, averageCommuteTime))\n",
    "rmseValBase = calcRMSE(labelsAndPredsVal)\n",
    "print 'Baseline Train RMSE = {0:.3f}'.format(rmseTrainBase)\n",
    "print 'Baseline Validation RMSE = {0:.3f}'.format(rmseValBase)"
   ]
  },
  {
   "cell_type": "markdown",
   "metadata": {},
   "source": [
    "### ** Part 3: Train linear regression models using MLlib  **"
   ]
  },
  {
   "cell_type": "markdown",
   "metadata": {},
   "source": [
    "#### **(3a) `LinearRegressionWithSGD` **\n",
    "#### MLlib's [LinearRegressionWithSGD](https://spark.apache.org/docs/latest/api/python/pyspark.mllib.html#pyspark.mllib.regression.LinearRegressionWithSGD) implements linear regression with advanced functionality, such as stochastic gradient approximation and allowing both L1 or L2 regularization.  First use LinearRegressionWithSGD to train a model with L2 regularization and with an intercept.  This method returns a [LinearRegressionModel](https://spark.apache.org/docs/latest/api/python/pyspark.mllib.html#pyspark.mllib.regression.LinearRegressionModel).  Next, use the model's [weights](http://spark.apache.org/docs/latest/api/python/pyspark.mllib.html#pyspark.mllib.regression.LinearRegressionModel.weights) and [intercept](http://spark.apache.org/docs/latest/api/python/pyspark.mllib.html#pyspark.mllib.regression.LinearRegressionModel.intercept) attributes to print out the model's parameters."
   ]
  },
  {
   "cell_type": "code",
   "execution_count": 64,
   "metadata": {
    "collapsed": false
   },
   "outputs": [],
   "source": [
    "from pyspark.mllib.linalg import DenseVector\n",
    "from pyspark.mllib.regression import LinearRegressionWithSGD\n",
    "# Values to use when training the linear regression model\n",
    "numIters = 500  # iterations\n",
    "alpha = 1.0  # step\n",
    "miniBatchFrac = 1.0  # miniBatchFraction\n",
    "reg = 1e-1  # regParam\n",
    "regType = 'l2'  # regType\n",
    "useIntercept = True  # intercept"
   ]
  },
  {
   "cell_type": "code",
   "execution_count": 65,
   "metadata": {
    "collapsed": false
   },
   "outputs": [
    {
     "name": "stdout",
     "output_type": "stream",
     "text": [
      "[2.95770983783,1.69699224572] 40.6023578482\n"
     ]
    }
   ],
   "source": [
    "from pyspark.ml.regression import LinearRegression\n",
    "# TODO: Replace <FILL IN> with appropriate code\n",
    "firstModel = LinearRegressionWithSGD.train(parsedTrainData, numIters, \n",
    "                                           alpha, miniBatchFrac, None, \n",
    "                                           reg, regType, useIntercept)\n",
    "\n",
    "\n",
    "# weightsLR1 stores the model weights; interceptLR1 stores the model intercept\n",
    "weightsLR1 =  firstModel.weights\n",
    "interceptLR1 =  firstModel.intercept\n",
    "print weightsLR1, interceptLR1"
   ]
  },
  {
   "cell_type": "markdown",
   "metadata": {},
   "source": [
    "#### **(3b) Predict**\n",
    "#### Now use the [LinearRegressionModel.predict()](http://spark.apache.org/docs/latest/api/python/pyspark.mllib.html#pyspark.mllib.regression.LinearRegressionModel.predict) method to make a prediction on a sample point.  Pass the `features` from a `LabeledPoint` into the `predict()` method."
   ]
  },
  {
   "cell_type": "code",
   "execution_count": 66,
   "metadata": {
    "collapsed": false
   },
   "outputs": [
    {
     "name": "stdout",
     "output_type": "stream",
     "text": [
      "[44.337726629955398, 39.228091847411342, 41.326881030169332, 40.231707047340031, 39.228091847411342, 43.571457983172692, 53.772062650482866, 41.472668800414702, 39.228091847411342, 41.710015353560685, 39.538332285680013, 34.210015847767906, 46.873879123449498, 44.720860953346751, 43.498564098050004, 37.220861447553972, 39.538332285680013, 40.852187923877366, 38.22447664748266, 42.640736668366685, 40.231707047340031, 40.852187923877366, 37.385314115577266, 42.713630553489374, 39.228091847411342, 37.220861447553972, 49.811830838112883, 37.220861447553972, 42.166043562074726, 40.870852821655291, 42.038920689607281, 39.848572723948678, 39.702784953703308, 36.837727124162612, 37.002179792185913, 41.235322247268719, 34.210015847767906, 37.220861447553972, 36.144352362502595, 40.469053600486014, 36.217246247625283, 37.458208000699948, 44.866648723592121, 53.224475659068226, 40.231707047340031, 39.538332285680013, 36.217246247625283, 42.549177885466079, 41.235322247268719, 38.461823200628636, 47.896159221156111, 39.009410192043291, 37.458208000699948, 41.472668800414702, 43.169658762003415, 46.65519746808144, 41.235322247268719, 36.527486685893948, 46.180504361789481, 39.538332285680013, 39.228091847411342, 37.8413423240913, 36.217246247625283, 38.22447664748266, 39.228091847411342, 41.235322247268719, 38.22447664748266, 36.837727124162612, 47.257013446840851, 42.238937447197408, 40.469053600486014, 38.461823200628636, 42.238937447197408, 43.552793085394768, 38.151582762359972, 39.538332285680013, 38.844957524019989, 42.549177885466079, 40.541947485608702, 43.407005315149398, 40.158813162217349, 40.231707047340031, 35.213631047696595, 43.479899200272079, 36.217246247625283, 35.213631047696595, 45.72447615327544, 37.220861447553972, 41.235322247268719, 37.932901106991913, 45.72447615327544, 52.056407791116243, 41.545562685537391, 41.162428362146038, 48.826880535962118, 40.323265830240643, 37.220861447553972, 36.217246247625283, 43.717245753418062, 36.217246247625283, 35.140737162573906, 37.220861447553972, 43.479899200272079, 38.22447664748266, 39.228091847411342, 40.541947485608702, 43.169658762003415, 41.162428362146038, 39.775678838825996, 40.541947485608702, 39.848572723948678, 41.545562685537391, 44.119044974587339]\n"
     ]
    }
   ],
   "source": [
    "# TODO: Replace <FILL IN> with appropriate code\n",
    "#samplePoint = parsedTrainData.map(lambda x: x.features).collect()[0]\n",
    "#samplePrediction = firstModel.predict(samplePoint)\n",
    "samplePrediction = parsedTrainData.map(lambda x: firstModel.predict(x.features)).collect()\n",
    "print samplePrediction"
   ]
  },
  {
   "cell_type": "markdown",
   "metadata": {},
   "source": [
    "#### ** (3c) Evaluate RMSE **\n",
    "#### Next evaluate the accuracy of this model on the validation set.  Use the `predict()` method to create a `labelsAndPreds` RDD, and then use the `calcRMSE()` function from Part (2b)."
   ]
  },
  {
   "cell_type": "code",
   "execution_count": 67,
   "metadata": {
    "collapsed": false
   },
   "outputs": [
    {
     "name": "stdout",
     "output_type": "stream",
     "text": [
      "[(43.0, 39.775678838825996), (42.0, 37.220861447553972), (45.0, 46.272063144690087), (48.0, 39.228091847411342), (43.0, 48.826880535962118), (38.0, 37.220861447553972), (45.0, 42.238937447197408), (42.0, 40.231707047340031), (46.0, 40.231707047340031), (57.0, 49.757601850768118)]\n",
      "5.0975954081\n",
      "5.49109858333\n"
     ]
    }
   ],
   "source": [
    "# TODO: Replace <FILL IN> with appropriate code\n",
    "labelsAndPreds = parsedValData.map(lambda x: (x.label, firstModel.predict(x.features)))\n",
    "print labelsAndPreds.take(10)\n",
    "rmseValLR1 = calcRMSE(labelsAndPreds)\n",
    "\n",
    "print rmseValBase\n",
    "print rmseValLR1"
   ]
  },
  {
   "cell_type": "markdown",
   "metadata": {},
   "source": [
    "#### ** (3d) Trying a 2nd order model **\n",
    "#### The linear model is already outperforming the baseline on the validation set by more than a minute on average, but let's see if we can do better. Let's see if a 2nd order model will lead to better predictions. A 2nd order model will have as features [num of accidents, snoOnGround, (num of accidents)^2, (snoOnGround)^2,(num of accidents * snoOnGround)].  First, we will use a Spark transformation to convert the 'parsedSamplePoints' RDD to an RDD that has LabeledPoint objects for the 2nd order modelling. Next, we will scale the features of 2nd order RDD."
   ]
  },
  {
   "cell_type": "code",
   "execution_count": 71,
   "metadata": {
    "collapsed": false
   },
   "outputs": [
    {
     "name": "stdout",
     "output_type": "stream",
     "text": [
      "[LabeledPoint(38.0, [7.0,10.0,49.0,100.0,70.0]), LabeledPoint(46.0, [5.0,0.0,25.0,0.0,0.0])]\n",
      "[LabeledPoint(38.0, [0.619733425648,1.12102877116,0.343454325969,0.559797993334,1.06019810531]), LabeledPoint(46.0, [-0.0589100214494,-0.707149519291,-0.264940420597,-0.455836516432,-0.533419088477])]\n"
     ]
    }
   ],
   "source": [
    "# TODO: Replace <FILL IN> with appropriate code\n",
    "def transformOrderTwo(lp):\n",
    "    \"\"\"Transforms the features in the LabeledPoint object lp into higher order features.\n",
    "\n",
    "    Args:\n",
    "        lp - LabeledPoint object \n",
    "\n",
    "    Returns:\n",
    "        LabeledPoint: The object contains the label and the higher order features\n",
    "    \"\"\"\n",
    "    new_point = LabeledPoint(lp.label, [lp.features[0],\n",
    "                                       lp.features[1],\n",
    "                                       lp.features[0]*lp.features[0],\n",
    "                                       lp.features[1]*lp.features[1],\n",
    "                                       lp.features[0]*lp.features[1]])\n",
    "                                       \n",
    "    return new_point\n",
    "\n",
    "orderTwoParsedSamplePoints = parsedSamplePoints.map(transformOrderTwo)\n",
    "print orderTwoParsedSamplePoints.take(2)\n",
    "# cleaning global lists\n",
    "meanOfFeatures = []\n",
    "stdDevFeatures = []\n",
    "normalizedOrderTwoSamplePoints = getNormalizedRDD(orderTwoParsedSamplePoints)\n",
    "print normalizedOrderTwoSamplePoints.take(2)"
   ]
  },
  {
   "cell_type": "markdown",
   "metadata": {},
   "source": [
    "#### ** (3e) Creating training and validation sets for 2nd order model **\n",
    "#### Follow the procedure in 1(i) to create a training and validation set for the 2nd order model"
   ]
  },
  {
   "cell_type": "code",
   "execution_count": 72,
   "metadata": {
    "collapsed": false
   },
   "outputs": [
    {
     "name": "stdout",
     "output_type": "stream",
     "text": [
      "113 31 144\n",
      "144\n"
     ]
    }
   ],
   "source": [
    "# TODO: Replace <FILL IN> with appropriate code\n",
    "weights = [.8, .2]\n",
    "seed = 42\n",
    "parsedTrainDataOrderTwo, parsedValDataOrderTwo = normalizedOrderTwoSamplePoints.randomSplit(weights, seed)\n",
    "\n",
    "nTrain = parsedTrainDataOrderTwo.count()\n",
    "nVal = parsedValDataOrderTwo.count()\n",
    "\n",
    "print nTrain, nVal, nTrain + nVal\n",
    "print normalizedOrderTwoSamplePoints.count()"
   ]
  },
  {
   "cell_type": "markdown",
   "metadata": {},
   "source": [
    "#### ** (3f) Train the 2nd order model using the training set **"
   ]
  },
  {
   "cell_type": "code",
   "execution_count": 73,
   "metadata": {
    "collapsed": false
   },
   "outputs": [
    {
     "name": "stdout",
     "output_type": "stream",
     "text": [
      "[1.30895116266,-0.75464385974,1.12200872569,1.80394308301,1.61548773457] 40.6187779798\n"
     ]
    }
   ],
   "source": [
    "# TODO: Replace <FILL IN> with appropriate code\n",
    "secondModel = LinearRegressionWithSGD.train(parsedTrainDataOrderTwo, numIters, \n",
    "                                           alpha, miniBatchFrac, None, \n",
    "                                           reg, regType, useIntercept)\n",
    "\n",
    "# weightsLR2 stores the model weights; interceptLR2 stores the model intercept\n",
    "weightsLR2 = secondModel.weights\n",
    "interceptLR2 = secondModel.intercept\n",
    "print weightsLR2, interceptLR2"
   ]
  },
  {
   "cell_type": "markdown",
   "metadata": {},
   "source": [
    "#### ** (3g) Evaluate RMSE of 2nd order model **\n",
    "#### This is similar to what you did in 3(c)."
   ]
  },
  {
   "cell_type": "code",
   "execution_count": 74,
   "metadata": {
    "collapsed": false
   },
   "outputs": [
    {
     "name": "stdout",
     "output_type": "stream",
     "text": [
      "5.0975954081\n",
      "5.49109858333\n",
      "5.363452407\n"
     ]
    }
   ],
   "source": [
    "# TODO: Replace <FILL IN> with appropriate code\n",
    "#secondOrderSamplePrediction = secondModel.predict(parsedTrainDataOrderTwo\n",
    "                                              #    .map(lambda x: x.features).collect()[0])\n",
    "secondOrderSamplePrediction = parsedTrainDataOrderTwo.map(lambda x: secondModel.predict(x.features)).collect()\n",
    "labelsAndPredsOrderTwo = parsedValDataOrderTwo.map(lambda x: (x.label, secondModel.predict(x.features)))\n",
    "#labelsAndPredsOrderTwo = parsedValDataOrderTwo.map(lambda x: (x.label, secondOrderSamplePrediction))\n",
    "rmseValLR2 = calcRMSE(labelsAndPredsOrderTwo)\n",
    "\n",
    "print rmseValBase\n",
    "print rmseValLR1\n",
    "print rmseValLR2"
   ]
  },
  {
   "cell_type": "markdown",
   "metadata": {},
   "source": [
    "#### ** Conclusions**\n",
    "#### You would have noticed a slight improvement in accuracy with the 2nd order model from the 1st order model. To get further improvements we could try a few other things such as using an even higher level model, using more features from the commute time and weather data, and using more data.  We could also use more advaned regression techniques supported by MLlib such as ridge regression.  These are left as future exercises that you can try on your own.\n",
    "\n",
    "#### To finish things off, here is a plot that compares the actual commute times to those predicted by our best model.  This is basically a a color-coded scatter plot visualizing tuples storing i) the predicted value from this model and ii) true label.  Lighter colour predictions represent lower errors while the red ones represent large errors. "
   ]
  },
  {
   "cell_type": "code",
   "execution_count": 75,
   "metadata": {
    "collapsed": false
   },
   "outputs": [
    {
     "data": {
      "image/png": "[encoded data removed]",
      "text/plain": [
       "<IPython.core.display.Image object>"
      ]
     },
     "execution_count": 75,
     "metadata": {},
     "output_type": "execute_result"
    }
   ],
   "source": [
    "import matplotlib\n",
    "# force Agg\n",
    "matplotlib.use('Agg')\n",
    "from IPython.display import Image\n",
    "import matplotlib.pyplot as plt\n",
    "import matplotlib.cm as cm\n",
    "from matplotlib.colors import ListedColormap, Normalize\n",
    "from matplotlib.cm import get_cmap\n",
    "\n",
    "cmap = get_cmap('YlOrRd')\n",
    "\n",
    "def preparePlot(xticks, yticks, figsize=(10.5, 6), hideLabels=False, gridColor='#999999',\n",
    "                gridWidth=1.0):\n",
    "    \"\"\"Template for generating the plot layout.\"\"\"\n",
    "    plt.close()\n",
    "    fig, ax = plt.subplots(figsize=figsize, facecolor='white', edgecolor='white')\n",
    "    ax.axes.tick_params(labelcolor='#999999', labelsize='10')\n",
    "    for axis, ticks in [(ax.get_xaxis(), xticks), (ax.get_yaxis(), yticks)]:\n",
    "        axis.set_ticks_position('none')\n",
    "        axis.set_ticks(ticks)\n",
    "        axis.label.set_color('#999999')\n",
    "        if hideLabels: axis.set_ticklabels([])\n",
    "    plt.grid(color=gridColor, linewidth=gridWidth, linestyle='-')\n",
    "    map(lambda position: ax.spines[position].set_visible(False), ['bottom', 'top', 'left', 'right'])\n",
    "    return fig, ax\n",
    "\n",
    "predictions = np.asarray(parsedValDataOrderTwo\n",
    "                         .map(lambda lp: secondModel.predict(lp.features))\n",
    "                         .collect())\n",
    "actual = np.asarray(parsedValDataOrderTwo\n",
    "                    .map(lambda lp: lp.label)\n",
    "                    .collect())\n",
    "error = np.asarray(parsedValDataOrderTwo\n",
    "                   .map(lambda lp: (lp.label, secondModel.predict(lp.features)))\n",
    "                   .map(lambda (l, p): squaredError(l, p))\n",
    "                   .collect())\n",
    "\n",
    "norm = Normalize()\n",
    "clrs = cmap(np.asarray(norm(error)))[:,0:3]\n",
    "\n",
    "fig, ax = preparePlot(np.arange(0, 120, 20), np.arange(0, 120, 20))\n",
    "ax.set_xlim(20, 60), ax.set_ylim(20, 100)\n",
    "plt.scatter(predictions, actual, s=14**2, c=clrs, edgecolors='#888888', alpha=0.75, linewidths=.5)\n",
    "ax.set_xlabel('Predicted'), ax.set_ylabel(r'Actual')\n",
    "pass\n",
    "fig.savefig('temp.png')\n",
    "Image(filename='temp.png')"
   ]
  },
  {
   "cell_type": "code",
   "execution_count": null,
   "metadata": {
    "collapsed": true
   },
   "outputs": [],
   "source": []
  }
 ],
 "metadata": {
  "kernelspec": {
   "display_name": "Python 2",
   "language": "python",
   "name": "python2"
  },
  "language_info": {
   "codemirror_mode": {
    "name": "ipython",
    "version": 2
   },
   "file_extension": ".py",
   "mimetype": "text/x-python",
   "name": "python",
   "nbconvert_exporter": "python",
   "pygments_lexer": "ipython2",
   "version": "2.7.12"
  }
 },
 "nbformat": 4,
 "nbformat_minor": 0
}
